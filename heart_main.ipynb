{
 "cells": [
  {
   "cell_type": "code",
   "execution_count": 1,
   "metadata": {},
   "outputs": [
    {
     "data": {
      "text/html": "<div>\n<style scoped>\n    .dataframe tbody tr th:only-of-type {\n        vertical-align: middle;\n    }\n\n    .dataframe tbody tr th {\n        vertical-align: top;\n    }\n\n    .dataframe thead th {\n        text-align: right;\n    }\n</style>\n<table border=\"1\" class=\"dataframe\">\n  <thead>\n    <tr style=\"text-align: right;\">\n      <th></th>\n      <th>Age</th>\n      <th>Sex</th>\n      <th>Chest Pain</th>\n      <th>Resting Blood Pressure</th>\n      <th>Cholestoral (mg/dl</th>\n      <th>Fasting Blood Sugar</th>\n      <th>Rest (ECG)</th>\n      <th>Max Heart Rate</th>\n      <th>ex Agina</th>\n      <th>ST Depression Induced</th>\n      <th>Slope</th>\n      <th>Number of Major Vessels (ca)</th>\n      <th>Thal</th>\n      <th>Target</th>\n    </tr>\n  </thead>\n  <tbody>\n    <tr>\n      <td>0</td>\n      <td>63</td>\n      <td>1</td>\n      <td>3</td>\n      <td>145</td>\n      <td>233</td>\n      <td>1</td>\n      <td>0</td>\n      <td>150</td>\n      <td>0</td>\n      <td>2.3</td>\n      <td>0</td>\n      <td>0</td>\n      <td>1</td>\n      <td>1</td>\n    </tr>\n    <tr>\n      <td>1</td>\n      <td>37</td>\n      <td>1</td>\n      <td>2</td>\n      <td>130</td>\n      <td>250</td>\n      <td>0</td>\n      <td>1</td>\n      <td>187</td>\n      <td>0</td>\n      <td>3.5</td>\n      <td>0</td>\n      <td>0</td>\n      <td>2</td>\n      <td>1</td>\n    </tr>\n    <tr>\n      <td>2</td>\n      <td>41</td>\n      <td>0</td>\n      <td>1</td>\n      <td>130</td>\n      <td>204</td>\n      <td>0</td>\n      <td>0</td>\n      <td>172</td>\n      <td>0</td>\n      <td>1.4</td>\n      <td>2</td>\n      <td>0</td>\n      <td>2</td>\n      <td>1</td>\n    </tr>\n    <tr>\n      <td>3</td>\n      <td>56</td>\n      <td>1</td>\n      <td>1</td>\n      <td>120</td>\n      <td>236</td>\n      <td>0</td>\n      <td>1</td>\n      <td>178</td>\n      <td>0</td>\n      <td>0.8</td>\n      <td>2</td>\n      <td>0</td>\n      <td>2</td>\n      <td>1</td>\n    </tr>\n    <tr>\n      <td>4</td>\n      <td>57</td>\n      <td>0</td>\n      <td>0</td>\n      <td>120</td>\n      <td>354</td>\n      <td>0</td>\n      <td>1</td>\n      <td>163</td>\n      <td>1</td>\n      <td>0.6</td>\n      <td>2</td>\n      <td>0</td>\n      <td>2</td>\n      <td>1</td>\n    </tr>\n  </tbody>\n</table>\n</div>",
      "text/plain": "   Age  Sex  Chest Pain  Resting Blood Pressure  Cholestoral (mg/dl  \\\n0   63    1           3                     145                 233   \n1   37    1           2                     130                 250   \n2   41    0           1                     130                 204   \n3   56    1           1                     120                 236   \n4   57    0           0                     120                 354   \n\n   Fasting Blood Sugar  Rest (ECG)  Max Heart Rate  ex Agina  \\\n0                    1           0             150         0   \n1                    0           1             187         0   \n2                    0           0             172         0   \n3                    0           1             178         0   \n4                    0           1             163         1   \n\n   ST Depression Induced  Slope  Number of Major Vessels (ca)  Thal  Target  \n0                    2.3      0                             0     1       1  \n1                    3.5      0                             0     2       1  \n2                    1.4      2                             0     2       1  \n3                    0.8      2                             0     2       1  \n4                    0.6      2                             0     2       1  "
     },
     "execution_count": 1,
     "metadata": {},
     "output_type": "execute_result"
    }
   ],
   "source": [
    "# Establish Dependencies\n",
    "import matplotlib.pyplot as plt \n",
    "import pandas as pd \n",
    "import scipy.stats as st \n",
    "from pprint import pprint\n",
    "import numpy as np \n",
    "\n",
    "# Set csv location into variable\n",
    "heart_data = \"Resources/heart_data.csv\"\n",
    "\n",
    "# Use Pandas csv reader to review data\n",
    "heart_data = pd.read_csv(heart_data)\n",
    "\n",
    "# Rename columns \n",
    "heart_data.columns = ['Age', 'Sex', 'Chest Pain', 'Resting Blood Pressure', 'Cholestoral (mg/dl', 'Fasting Blood Sugar', 'Rest (ECG)', 'Max Heart Rate', 'ex Agina', 'ST Depression Induced', 'Slope', 'Number of Major Vessels (ca)', 'Thal', 'Target']\n",
    "\n",
    "heart_data.head()"
   ]
  },
  {
   "cell_type": "code",
   "execution_count": null,
   "metadata": {},
   "outputs": [],
   "source": []
  }
 ],
 "metadata": {
  "kernelspec": {
   "display_name": "Python 3",
   "language": "python",
   "name": "python3"
  },
  "language_info": {
   "codemirror_mode": {
    "name": "ipython",
    "version": 3
   },
   "file_extension": ".py",
   "mimetype": "text/x-python",
   "name": "python",
   "nbconvert_exporter": "python",
   "pygments_lexer": "ipython3",
   "version": "3.8.0-final"
  }
 },
 "nbformat": 4,
 "nbformat_minor": 2
}